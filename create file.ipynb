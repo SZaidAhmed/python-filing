{
 "cells": [
  {
   "cell_type": "code",
   "execution_count": 1,
   "metadata": {},
   "outputs": [],
   "source": [
    "a= \"assdas123asdasd\" '''User ID on mongodb'''"
   ]
  },
  {
   "cell_type": "code",
   "execution_count": 11,
   "metadata": {},
   "outputs": [
    {
     "name": "stdout",
     "output_type": "stream",
     "text": [
      "Enter CNN number of layers: 4\n",
      "Enter CNN layer outputs: 32,64,128,128\n",
      "No of dense layers: 2\n",
      "Dense later outputs: 521,1\n",
      "Begining layers output function: relu\n",
      "End layer output function: sigmoid\n",
      "Input Shape: 150,150,3\n",
      "Loss function: binary_crossentropy\n",
      "Learning rate: -4\n",
      "Targer size: 150,150\n",
      "Class Mode: binary\n",
      "Batch size: 20\n",
      "Epochs: 30\n",
      "Steps per epochs: 100\n",
      "Validation steps: 50\n"
     ]
    }
   ],
   "source": [
    "CnnNumberOfLayers = int(input(\"Enter CNN number of layers: \"))\n",
    "CnnLayerOutputs = input(\"Enter CNN layer outputs: \")\n",
    "DenseNumberOfLayers = int(input(\"No of dense layers: \"))\n",
    "DenseLayerOutputs = input(\"Dense later outputs: \")\n",
    "BeginingLayersOutputFunction = input(\"Begining layers output function: \")\n",
    "EndLayerOutputFunction = input(\"End layer output function: \")\n",
    "InputShape = input(\"Input Shape: \")\n",
    "LossFunction = input(\"Loss function: \")\n",
    "LearingRate = input(\"Learning rate: \")\n",
    "TargetSize = input(\"Targer size: \")\n",
    "ClassMode = input(\"Class Mode: \")  \n",
    "BatchSize = input(\"Batch size: \")\n",
    "Epochs = input(\"Epochs: \")\n",
    "StepsPerEpoch = input(\"Steps per epochs: \")\n",
    "ValidationSteps =input (\"Validation steps: \")"
   ]
  },
  {
   "cell_type": "code",
   "execution_count": 5,
   "metadata": {},
   "outputs": [
    {
     "name": "stdout",
     "output_type": "stream",
     "text": [
      "['32', '64', '128', '128']\n",
      "['512', '1']\n"
     ]
    }
   ],
   "source": [
    "b = CnnLayerOutputs.split(\",\")\n",
    "print(b)\n",
    "c = DenseLayerOutputs.split(\",\")\n",
    "print(c)"
   ]
  },
  {
   "cell_type": "code",
   "execution_count": 13,
   "metadata": {},
   "outputs": [],
   "source": [
    "f = open(f'{a}.py',\"w\")\n",
    "f.write(\"from keras import layers \\nfrom keras import models \\nmodel = models.Sequential()\")\n",
    "for i in range(0,CnnNumberOfLayers):\n",
    "    if i == 0:\n",
    "        f.write(f'\\nmodel.add(layers.Conv2D({b[i]}, (3, 3), activation=\"{BeginingLayersOutputFunction}\", input_shape=({InputShape})))')\n",
    "        f.write(f'\\nmodel.add(layers.MaxPooling2D((2, 2))) ')\n",
    "    else:\n",
    "        f.write(f'\\nmodel.add(layers.Conv2D({b[i]}, (3, 3), activation=\"{BeginingLayersOutputFunction}\"))')\n",
    "        f.write(f'\\nmodel.add(layers.MaxPooling2D((2, 2))) ')\n",
    "\n",
    "f.write(\"\\nmodel.add(layers.Flatten())\")\n",
    "\n",
    "for i in range(0,DenseNumberOfLayers):\n",
    "    if i == DenseNumberOfLayers-1:\n",
    "        f.write(f'\\nmodel.add(layers.Dense({c[i]}, activation=\"{EndLayerOutputFunction}\")')\n",
    "    else:\n",
    "        f.write(f'\\nmodel.add(layers.Dense({c[i]}, activation=\"{BeginingLayersOutputFunction}\"))')\n",
    "\n",
    "f.write(\"\\nfrom keras import optimizers\")\n",
    "f.write(f'\\nmodel.compile(loss=\"{LossFunction}\", optimizer=optimizers.RMSprop(lr=1e{LearingRate}),metrics=[\"acc\"])')\n",
    "f.write(f'\\nfrom keras.preprocessing.image import ImageDataGenerator \\ntrain_datagen = ImageDataGenerator(rescale=1./255) \\ntest_datagen = ImageDataGenerator(rescale=1./255)')\n",
    "\n",
    "\n",
    "f.write(f'train_generator = train_datagen.flow_from_directory(train_dir, target_size=({TargetSize}),batch_size={BatchSize} , class_mode=\"{ClassMode}\") \\nvalidation_generator = test_datagen.flow_from_directory( validation_dir,target_size=({TargetSize}) , batch_size={BatchSize} , class_mode=\"{ClassMode}\")')\n",
    "f.write(f'\\nhistory = model.fit_generator(train_generator,steps_per_epoch={StepsPerEpoch},epochs={Epochs},validation_data=validation_generator,validation_steps={ValidationSteps})')\n",
    "f.close()"
   ]
  },
  {
   "cell_type": "code",
   "execution_count": null,
   "metadata": {},
   "outputs": [],
   "source": []
  },
  {
   "cell_type": "code",
   "execution_count": null,
   "metadata": {},
   "outputs": [],
   "source": []
  },
  {
   "cell_type": "code",
   "execution_count": null,
   "metadata": {},
   "outputs": [],
   "source": []
  }
 ],
 "metadata": {
  "kernelspec": {
   "display_name": "Python 3",
   "language": "python",
   "name": "python3"
  },
  "language_info": {
   "codemirror_mode": {
    "name": "ipython",
    "version": 3
   },
   "file_extension": ".py",
   "mimetype": "text/x-python",
   "name": "python",
   "nbconvert_exporter": "python",
   "pygments_lexer": "ipython3",
   "version": "3.6.5"
  }
 },
 "nbformat": 4,
 "nbformat_minor": 2
}
